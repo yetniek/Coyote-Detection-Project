{
 "cells": [
  {
   "cell_type": "markdown",
   "id": "d886ff9e",
   "metadata": {
    "id": "784e34c5-ee6e-4736-87ab-7e72faefe243",
    "tags": []
   },
   "source": [
    "# Import Library"
   ]
  },
  {
   "cell_type": "code",
   "execution_count": 1,
   "id": "7e27cb25",
   "metadata": {
    "id": "3482292d-8254-4461-bf5f-35ef92273d0b"
   },
   "outputs": [],
   "source": [
    "import librosa \n",
    "import librosa.display as dsp\n",
    "from IPython.display import Audio\n",
    "import pandas as pd\n",
    "import numpy as np \n",
    "import os\n",
    "import matplotlib.pyplot as plt\n",
    "import glob\n",
    "from tqdm import tqdm"
   ]
  },
  {
   "cell_type": "markdown",
   "id": "531c5bd4-de44-43b1-bbfd-040a02c32b76",
   "metadata": {},
   "source": [
    "# Define Image Extraction Function  \n",
    "\n",
    "Set the parameter value of the feature extraction method you want to create to True."
   ]
  },
  {
   "cell_type": "code",
   "execution_count": 2,
   "id": "20766d24-61a8-4859-a6c7-069378d7f99f",
   "metadata": {
    "id": "2c62f090-6f4a-4c14-83c1-f7646f616360"
   },
   "outputs": [],
   "source": [
    "def make_jpg(file_name, image_file, sr, mfcc=False, mel=False):    \n",
    "    y, sr = librosa.load(f'./dataset/audio/{file_name}', sr=sr) \n",
    "    \n",
    "    if mfcc: \n",
    "        S = librosa.feature.mfcc(y, sr, n_mfcc=400)\n",
    "        plt.figure(figsize=(10, 4))\n",
    "        librosa.display.specshow(S, sr=sr, hop_length=160, x_axis='time')\n",
    " \n",
    "    else:        \n",
    "        S = librosa.feature.melspectrogram(y=y, n_mels=100, n_fft=400, hop_length=512)  \n",
    "        plt.figure(figsize=(10, 4))\n",
    "        librosa.display.specshow(librosa.power_to_db(S, ref=np.max), sr=sr, hop_length=160, x_axis='time')\n",
    "    plt.axis('off')\n",
    "    \n",
    "    re_name = file_name.replace('wav', 'jpg')\n",
    "    plt.savefig(f'./dataset/image/{image_file}/{re_name}', bbox_inches='tight',pad_inches = 0) \n",
    "    plt.show()\n",
    "\n",
    "    return None"
   ]
  },
  {
   "cell_type": "code",
   "execution_count": 3,
   "id": "f7a74b63-9af8-4a8c-a533-af4eaca23205",
   "metadata": {},
   "outputs": [],
   "source": [
    "#USER can change options through this line\n",
    "sr = 16000 #USER OPTION : 8000 / 16000\n",
    "f_method = 'melspect' #USER OPTION : melspect / mfcc\n",
    "image_file = 'img_' + f_method + '_' + str(sr) #image file folder name"
   ]
  },
  {
   "cell_type": "markdown",
   "id": "11a11481-8fba-4abb-ba3b-3999885ac038",
   "metadata": {},
   "source": [
    "# Make the Image Folderd"
   ]
  },
  {
   "cell_type": "code",
   "execution_count": 4,
   "id": "6b7cc98d-826e-46a7-9536-ed3c497253af",
   "metadata": {},
   "outputs": [],
   "source": [
    "# os.mkdir(f'dataset/image/{image_file}')"
   ]
  },
  {
   "cell_type": "markdown",
   "id": "ba111a80-3de4-40ac-a97b-97ad982d8f83",
   "metadata": {},
   "source": [
    "# Run"
   ]
  },
  {
   "cell_type": "code",
   "execution_count": 5,
   "id": "6f6e8753-ddb1-41cd-805f-95a513a7500c",
   "metadata": {},
   "outputs": [
    {
     "name": "stdout",
     "output_type": "stream",
     "text": [
      "total audio dataset : 3829\n"
     ]
    }
   ],
   "source": [
    "# check the total audio dataset\n",
    "total_data_list = glob.glob('./dataset/audio/*')\n",
    "print(f'total audio dataset : {len(total_data_list)}')"
   ]
  },
  {
   "cell_type": "code",
   "execution_count": 6,
   "id": "c2e4064e-dac0-44b7-9f2b-0445ba51f348",
   "metadata": {},
   "outputs": [
    {
     "data": {
      "text/plain": [
       "'C:\\\\Users\\\\yejin\\\\Desktop\\\\FINAL_TEST_CODE'"
      ]
     },
     "execution_count": 6,
     "metadata": {},
     "output_type": "execute_result"
    }
   ],
   "source": [
    "os.getcwd()"
   ]
  },
  {
   "cell_type": "code",
   "execution_count": null,
   "id": "2d53ab87",
   "metadata": {},
   "outputs": [],
   "source": [
    "for i in tqdm(total_data_list):\n",
    "    name = i.split('\\\\')[1]\n",
    "    make_jpg(name, image_file, sr, False, True) "
   ]
  }
 ],
 "metadata": {
  "accelerator": "GPU",
  "colab": {
   "machine_shape": "hm",
   "name": "",
   "version": ""
  },
  "gpuClass": "premium",
  "kernelspec": {
   "display_name": "Python 3",
   "language": "python",
   "name": "python3"
  },
  "language_info": {
   "codemirror_mode": {
    "name": "ipython",
    "version": 3
   },
   "file_extension": ".py",
   "mimetype": "text/x-python",
   "name": "python",
   "nbconvert_exporter": "python",
   "pygments_lexer": "ipython3",
   "version": "3.8.8"
  }
 },
 "nbformat": 4,
 "nbformat_minor": 5
}
