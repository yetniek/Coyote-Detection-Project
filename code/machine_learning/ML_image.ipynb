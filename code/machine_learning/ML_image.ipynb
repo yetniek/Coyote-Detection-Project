{
 "cells": [
  {
   "cell_type": "markdown",
   "id": "9ed5b298",
   "metadata": {},
   "source": [
    "# [Machine Learning - Image Classification Code]"
   ]
  },
  {
   "cell_type": "code",
   "execution_count": 12,
   "id": "3bb9331e",
   "metadata": {},
   "outputs": [],
   "source": [
    "#import all library\n",
    "from sklearn.neural_network import MLPClassifier\n",
    "from sklearn.neighbors import KNeighborsClassifier\n",
    "from sklearn import svm\n",
    "from sklearn.naive_bayes import GaussianNB\n",
    "from sklearn.model_selection import train_test_split\n",
    "from sklearn.preprocessing import StandardScaler\n",
    "import numpy as np\n",
    "import pandas as pd\n",
    "import librosa\n",
    "import cv2\n",
    "import os\n",
    "import torchvision.transforms as transforms \n",
    "from sklearn.metrics import mean_squared_error\n",
    "from sklearn.metrics import classification_report\n",
    "from sklearn.metrics import log_loss\n",
    "from sklearn.metrics import accuracy_score\n",
    "from sklearn import metrics\n",
    "import warnings\n",
    "warnings.filterwarnings('ignore')"
   ]
  },
  {
   "cell_type": "code",
   "execution_count": 2,
   "id": "e2df5306",
   "metadata": {},
   "outputs": [],
   "source": [
    "train_csv=pd.read_csv(\"../../dataset/train.csv\") #read the train csv file\n",
    "test_csv=pd.read_csv(\"../../dataset/test.csv\") #read the test csv file"
   ]
  },
  {
   "cell_type": "markdown",
   "id": "a20a6eeb",
   "metadata": {},
   "source": [
    "## USER has to initialize these variables when changing feature extraction methods"
   ]
  },
  {
   "cell_type": "code",
   "execution_count": 3,
   "id": "45dccf07",
   "metadata": {},
   "outputs": [],
   "source": [
    "# array initialization\n",
    "x_train=[]\n",
    "x_test=[]\n",
    "y_train=[]\n",
    "y_test=[]"
   ]
  },
  {
   "cell_type": "markdown",
   "id": "7bdcf84f",
   "metadata": {},
   "source": [
    "## USER INPUT: You can change options through this line \n",
    "## Please input 8000 or 16000 for sr, input melspect or mfcc for f_method"
   ]
  },
  {
   "cell_type": "markdown",
   "id": "65732804",
   "metadata": {},
   "source": [
    "### 4 OPTIONS : 1) Mel Spectrogram-16,000 2) Mel Spectrogram - 8,000 3) MFCC - 16,000 4) MFCC - 8,000"
   ]
  },
  {
   "cell_type": "code",
   "execution_count": 4,
   "id": "a657ab72",
   "metadata": {},
   "outputs": [],
   "source": [
    "sr = 16000 #USER OPTION : 8000 / 16000\n",
    "f_method = 'melspect' #USER OPTION : melspect / mfcc\n",
    "image_dir = 'img_' + f_method + '_' + str(sr)+'/' #image file folder name"
   ]
  },
  {
   "cell_type": "code",
   "execution_count": 5,
   "id": "a5160e0a",
   "metadata": {},
   "outputs": [],
   "source": [
    "for idx, file in enumerate(train_csv['file_name']): #train dataset\n",
    "    file_name=file[:-4] #cut file name\n",
    "    img_id = file_name +'.jpg'\n",
    "    img = cv2.imread('../../dataset/image/'+ image_dir + img_id, cv2.IMREAD_GRAYSCALE) #read each image file\n",
    "    x_train.append(img.flatten())\n",
    "    y_train.append(train_csv['label'].iloc[idx])\n",
    "\n",
    "for idx, file in enumerate(test_csv['file_name']): #test dataset\n",
    "    file_name=file[:-4]\n",
    "    img_id = file_name +'.jpg'\n",
    "    img = cv2.imread('../../dataset/image/'+ image_dir + img_id, cv2.IMREAD_GRAYSCALE)\n",
    "    x_test.append(img.flatten())\n",
    "    y_test.append(test_csv['label'].iloc[idx])"
   ]
  },
  {
   "cell_type": "code",
   "execution_count": 6,
   "id": "86a88512",
   "metadata": {},
   "outputs": [],
   "source": [
    "scaler = StandardScaler() \n",
    "x_train = scaler.fit_transform(x_train) # Standardize train data\n",
    "x_test = scaler.transform(x_test) # Standardize test data\n",
    "\n",
    "x_train=pd.DataFrame(x_train) # to dataframe\n",
    "y_train=pd.DataFrame(y_train) # to dataframe"
   ]
  },
  {
   "cell_type": "markdown",
   "id": "bc25839c",
   "metadata": {},
   "source": [
    "# OPTION: USER has to run manually from here to change models\n",
    "### 4 OPTIONS : 1) SVM 2) MLP 3) KNN 4)GNB\n",
    "## Run the corresponding cell.\n",
    "\n",
    "## OPTION 1) SVM"
   ]
  },
  {
   "cell_type": "code",
   "execution_count": 7,
   "id": "bf905f05",
   "metadata": {},
   "outputs": [
    {
     "name": "stdout",
     "output_type": "stream",
     "text": [
      "[LibSVM]"
     ]
    }
   ],
   "source": [
    "#Create a SVM Classifier\n",
    "model = svm.SVC(kernel = 'rbf', C = 1,verbose=True, probability=True)\n",
    "#Train the model using the training sets\n",
    "model = model.fit(x_train,y_train)"
   ]
  },
  {
   "cell_type": "markdown",
   "id": "10e24978",
   "metadata": {},
   "source": [
    "## OPTION 2) MLP"
   ]
  },
  {
   "cell_type": "code",
   "execution_count": 8,
   "id": "a8512ffa",
   "metadata": {},
   "outputs": [
    {
     "name": "stdout",
     "output_type": "stream",
     "text": [
      "Iteration 1, loss = 0.50842047\n",
      "Validation score: 0.860870\n",
      "Iteration 2, loss = 0.44005370\n",
      "Validation score: 0.856522\n",
      "Iteration 3, loss = 0.39940455\n",
      "Validation score: 0.856522\n",
      "Iteration 4, loss = 0.36557143\n",
      "Validation score: 0.856522\n",
      "Iteration 5, loss = 0.34149539\n",
      "Validation score: 0.878261\n",
      "Iteration 6, loss = 0.30657281\n",
      "Validation score: 0.865217\n",
      "Iteration 7, loss = 0.30100778\n",
      "Validation score: 0.852174\n",
      "Iteration 8, loss = 0.29120911\n",
      "Validation score: 0.865217\n",
      "Iteration 9, loss = 0.28497346\n",
      "Validation score: 0.852174\n",
      "Iteration 10, loss = 0.25277530\n",
      "Validation score: 0.873913\n",
      "Iteration 11, loss = 0.22581375\n",
      "Validation score: 0.878261\n",
      "Iteration 12, loss = 0.20784669\n",
      "Validation score: 0.839130\n",
      "Iteration 13, loss = 0.21115574\n",
      "Validation score: 0.865217\n",
      "Iteration 14, loss = 0.19649912\n",
      "Validation score: 0.860870\n",
      "Iteration 15, loss = 0.18466873\n",
      "Validation score: 0.847826\n",
      "Iteration 16, loss = 0.17515012\n",
      "Validation score: 0.839130\n",
      "Validation score did not improve more than tol=0.000100 for 10 consecutive epochs. Stopping.\n"
     ]
    }
   ],
   "source": [
    "#Create a MLP Classifier\n",
    "model = MLPClassifier(hidden_layer_sizes=[300, 100], \n",
    "                          activation='relu', \n",
    "                          early_stopping=True,\n",
    "                          random_state=32,\n",
    "                          verbose= True)\n",
    "#Train the model using the training sets\n",
    "model = model.fit(x_train, y_train)"
   ]
  },
  {
   "cell_type": "markdown",
   "id": "7a038105",
   "metadata": {},
   "source": [
    "## OPTION 3) KNN"
   ]
  },
  {
   "cell_type": "code",
   "execution_count": 9,
   "id": "3e29d5e5",
   "metadata": {},
   "outputs": [],
   "source": [
    "#Create a KNeighborsClassifier\n",
    "model = KNeighborsClassifier(n_neighbors = 5)\n",
    "#Train the model using the training sets\n",
    "model = model.fit(x_train,y_train)"
   ]
  },
  {
   "cell_type": "markdown",
   "id": "4bf407d0",
   "metadata": {},
   "source": [
    "## OPTION 4) GNB"
   ]
  },
  {
   "cell_type": "code",
   "execution_count": 10,
   "id": "fa26f217",
   "metadata": {},
   "outputs": [],
   "source": [
    "#Create a Gaussian Classifier\n",
    "model = GaussianNB()\n",
    "#Train the model using the training sets\n",
    "model=model.fit(x_train, y_train)"
   ]
  },
  {
   "cell_type": "markdown",
   "id": "d6af7ef0",
   "metadata": {},
   "source": [
    "# Evalution Metrics"
   ]
  },
  {
   "cell_type": "code",
   "execution_count": 13,
   "id": "c71b4a5c",
   "metadata": {},
   "outputs": [
    {
     "name": "stdout",
     "output_type": "stream",
     "text": [
      "accuracy :  0.7193211488250653\n",
      "AUC :  0.7167304922419501\n",
      "              precision    recall  f1-score   support\n",
      "\n",
      "           0       0.76      0.60      0.67       369\n",
      "           1       0.69      0.83      0.75       397\n",
      "\n",
      "    accuracy                           0.72       766\n",
      "   macro avg       0.73      0.72      0.71       766\n",
      "weighted avg       0.73      0.72      0.72       766\n",
      "\n"
     ]
    }
   ],
   "source": [
    "y_pred=model.predict(x_test) # model predict\n",
    "y_prob = model.predict_proba(x_test) # calculate probability\n",
    "fpr, tpr, thresholds = metrics.roc_curve(y_test, y_prob[:,1])\n",
    "AUC = metrics.auc(fpr, tpr) # calculate AUC\n",
    "\n",
    "print('accuracy : ', accuracy_score(y_test,y_pred)) # print accuracy\n",
    "print('AUC : ', AUC) # print AUC\n",
    "print(classification_report(y_test, y_pred)) # print f1-score"
   ]
  },
  {
   "cell_type": "code",
   "execution_count": null,
   "id": "2f60e811",
   "metadata": {},
   "outputs": [],
   "source": []
  }
 ],
 "metadata": {
  "kernelspec": {
   "display_name": "Python 3",
   "language": "python",
   "name": "python3"
  },
  "language_info": {
   "codemirror_mode": {
    "name": "ipython",
    "version": 3
   },
   "file_extension": ".py",
   "mimetype": "text/x-python",
   "name": "python",
   "nbconvert_exporter": "python",
   "pygments_lexer": "ipython3",
   "version": "3.8.8"
  }
 },
 "nbformat": 4,
 "nbformat_minor": 5
}
