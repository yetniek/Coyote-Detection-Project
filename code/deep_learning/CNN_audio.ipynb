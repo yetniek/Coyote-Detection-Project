{
 "cells": [
  {
   "cell_type": "markdown",
   "id": "fac06642-445c-4ed6-b201-7d16969565cc",
   "metadata": {},
   "source": [
    "# Install library"
   ]
  },
  {
   "cell_type": "code",
   "execution_count": 2,
   "id": "YxauU0lAHBQz",
   "metadata": {
    "colab": {
     "base_uri": "https://localhost:8080/"
    },
    "executionInfo": {
     "elapsed": 4431,
     "status": "ok",
     "timestamp": 1670599298731,
     "user": {
      "displayName": "정희선",
      "userId": "04450625687071776858"
     },
     "user_tz": 300
    },
    "id": "YxauU0lAHBQz",
    "outputId": "d5df5c3e-e7cc-4a60-9db5-b169499e1259"
   },
   "outputs": [],
   "source": [
    "# !pip install scipy\n",
    "# !pip install spafe"
   ]
  },
  {
   "cell_type": "markdown",
   "id": "129cbb2f-2b17-40f7-9b3b-84851c0013b9",
   "metadata": {},
   "source": [
    "# Import"
   ]
  },
  {
   "cell_type": "code",
   "execution_count": 3,
   "id": "735bd94b-0de0-475b-bff6-01bdcae9c087",
   "metadata": {
    "colab": {
     "base_uri": "https://localhost:8080/"
    },
    "executionInfo": {
     "elapsed": 1051,
     "status": "ok",
     "timestamp": 1670599303925,
     "user": {
      "displayName": "정희선",
      "userId": "04450625687071776858"
     },
     "user_tz": 300
    },
    "id": "735bd94b-0de0-475b-bff6-01bdcae9c087",
    "outputId": "58b75abb-ee62-45f9-b3cd-cd5d9bbadf8a"
   },
   "outputs": [],
   "source": [
    "import librosa \n",
    "import librosa.display as dsp\n",
    "from IPython.display import Audio\n",
    "\n",
    "import scipy.io.wavfile\n",
    "from spafe.features.gfcc import gfcc\n",
    "\n",
    "import pandas as pd\n",
    "import numpy as np\n",
    "from tqdm import tqdm\n",
    "import os\n",
    "import time\n",
    "import random\n",
    "\n",
    "from sklearn.metrics import classification_report\n",
    "import torch.nn.functional as F\n",
    "from sklearn.metrics import log_loss\n",
    "from sklearn import metrics\n",
    "import math\n",
    "\n",
    "import torch\n",
    "from torch.utils.data import DataLoader, Dataset\n",
    "import torchvision.datasets as datasets  \n",
    "import torchvision.transforms as transforms\n",
    "from tqdm.auto import tqdm\n",
    "import torch.nn as nn\n",
    "\n",
    "\n",
    "import torch.optim as optim  \n"
   ]
  },
  {
   "cell_type": "markdown",
   "id": "2d5c42b4-d908-4b38-b2ab-1cb39f8f2461",
   "metadata": {},
   "source": [
    "# GPU Setting"
   ]
  },
  {
   "cell_type": "code",
   "execution_count": 4,
   "id": "6a04df7f-53ba-4b6c-be32-fd0b3a0cace2",
   "metadata": {},
   "outputs": [
    {
     "name": "stdout",
     "output_type": "stream",
     "text": [
      "cuda\n"
     ]
    }
   ],
   "source": [
    "device = torch.device('cuda') if torch.cuda.is_available() else torch.device('cpu') #GPU 할당\n",
    "print(device)"
   ]
  },
  {
   "cell_type": "markdown",
   "id": "TXGUT8-SuvOj",
   "metadata": {
    "id": "TXGUT8-SuvOj",
    "tags": []
   },
   "source": [
    "# Make Log/Model Folder"
   ]
  },
  {
   "cell_type": "code",
   "execution_count": 5,
   "id": "mi2r9qPXtNzG",
   "metadata": {
    "executionInfo": {
     "elapsed": 76,
     "status": "ok",
     "timestamp": 1670599303932,
     "user": {
      "displayName": "정희선",
      "userId": "04450625687071776858"
     },
     "user_tz": 300
    },
    "id": "mi2r9qPXtNzG"
   },
   "outputs": [],
   "source": [
    "os.makedirs('./audio_logs', exist_ok=True)\n",
    "os.makedirs('./audio_model', exist_ok=True)"
   ]
  },
  {
   "cell_type": "markdown",
   "id": "4082160a-1b5d-42dc-8d01-81e50d2186e7",
   "metadata": {
    "tags": []
   },
   "source": [
    "# Fixed RandomSeed"
   ]
  },
  {
   "cell_type": "code",
   "execution_count": 6,
   "id": "0003e811-1794-4cbc-9118-233b55d3eb88",
   "metadata": {
    "executionInfo": {
     "elapsed": 77,
     "status": "ok",
     "timestamp": 1670599303935,
     "user": {
      "displayName": "정희선",
      "userId": "04450625687071776858"
     },
     "user_tz": 300
    },
    "id": "0003e811-1794-4cbc-9118-233b55d3eb88"
   },
   "outputs": [],
   "source": [
    "def seed_everything(seed):\n",
    "    random.seed(seed)\n",
    "    os.environ['PYTHONHASHSEED'] = str(seed)\n",
    "    np.random.seed(seed)\n",
    "    torch.manual_seed(seed)\n",
    "    torch.cuda.manual_seed(seed)\n",
    "    torch.backends.cudnn.deterministic = True\n",
    "    torch.backends.cudnn.benchmark = True\n",
    "\n",
    "seed_everything(42)"
   ]
  },
  {
   "cell_type": "markdown",
   "id": "c12bf51d-3770-4211-a639-e56e30dd1ff3",
   "metadata": {
    "tags": []
   },
   "source": [
    "# Hyperparameter Setting\n",
    "## USER can change options through this line"
   ]
  },
  {
   "cell_type": "code",
   "execution_count": 7,
   "id": "e3f87e23-f51f-4fe5-b0b8-ebb5bb7fd60e",
   "metadata": {},
   "outputs": [
    {
     "name": "stdout",
     "output_type": "stream",
     "text": [
      "mfcc 16000\n"
     ]
    }
   ],
   "source": [
    "sr = 16000 #USER OPTION : 8000 / 16000\n",
    "f_method = 'mfcc' #USER OPTION : mfcc / mel / logmel / gtcc\n",
    "\n",
    "print(f_method, sr)"
   ]
  },
  {
   "cell_type": "code",
   "execution_count": 8,
   "id": "d53eca8a-2506-40ba-bc1c-e1d0541f2834",
   "metadata": {
    "colab": {
     "base_uri": "https://localhost:8080/"
    },
    "executionInfo": {
     "elapsed": 78,
     "status": "ok",
     "timestamp": 1670599303940,
     "user": {
      "displayName": "정희선",
      "userId": "04450625687071776858"
     },
     "user_tz": 300
    },
    "id": "d53eca8a-2506-40ba-bc1c-e1d0541f2834",
    "outputId": "8dd0c1e6-5fcb-4f1f-8527-3af4aafc5eb2"
   },
   "outputs": [],
   "source": [
    "#this is class configuration\n",
    "#you can change hyperparameters here\n",
    "class CFG:    \n",
    "    sample_rate = sr #set the sampling rate\n",
    "    num_epochs = 30 #set the epochs\n",
    "    batch_size = 10 #set the batch size\n",
    "    learning_rate = 0.001 #set the learning rate\n",
    "    kernel_name = f'{f_method}_{sr}' #set kernel name for pth\n",
    "    DEBUG = False #choose debug mode"
   ]
  },
  {
   "cell_type": "markdown",
   "id": "-YTQbNeDvlD5",
   "metadata": {
    "id": "-YTQbNeDvlD5",
    "tags": []
   },
   "source": [
    "# Customdataset\n",
    "\n",
    "The f_method & sr value selected in the above cell determines the feature extraction method & sampling rate."
   ]
  },
  {
   "cell_type": "code",
   "execution_count": 9,
   "id": "f12e1d68-73a5-4959-a053-6a87c4ab336d",
   "metadata": {
    "executionInfo": {
     "elapsed": 69,
     "status": "ok",
     "timestamp": 1670599303943,
     "user": {
      "displayName": "정희선",
      "userId": "04450625687071776858"
     },
     "user_tz": 300
    },
    "id": "f12e1d68-73a5-4959-a053-6a87c4ab336d"
   },
   "outputs": [],
   "source": [
    "class CustomDataset(Dataset):\n",
    "    def __init__(self, file_path, f_method, train_mode=True, transforms=None): \n",
    "        self.csv = pd.read_csv(file_path)\n",
    "        self.train_mode = train_mode\n",
    "        self.transforms = transforms        \n",
    "\n",
    "    def __len__(self):\n",
    "        if CFG.DEBUG:\n",
    "            return 10\n",
    "        else:\n",
    "            return self.csv.shape[0]     \n",
    "    \n",
    "    def __getitem__(self, index): \n",
    "        file_name = self.csv.iloc[index].file_name \n",
    "        audio, sr = librosa.load(f'../../dataset/audio/{file_name}', CFG.sample_rate)\n",
    "        \n",
    "        if f_method == 'mfcc':\n",
    "            audio = librosa.feature.mfcc(y=audio, sr=sr, n_mfcc=40)  \n",
    "        \n",
    "        if f_method == 'mel':\n",
    "            audio = librosa.feature.melspectrogram(audio, sr)\n",
    "            \n",
    "        if f_method == 'log_mel':\n",
    "            audio = librosa.feature.melspectrogram(audio, sr)\n",
    "            audio = librosa.power_to_db(audio)\n",
    "       \n",
    "        if f_method == 'gtcc':\n",
    "            fs, sig = scipy.io.wavfile.read(f'../../dataset/audio/{file_name}')\n",
    "            audio = gfcc(sig, num_ceps=200, nfilts=200, fs = CFG.sample_rate)\n",
    "                    \n",
    "        audio = torch.tensor(audio).float()\n",
    "        audio = audio.reshape(audio.shape[0], audio.shape[1], 1)  \n",
    "        \n",
    "        label = self.csv.iloc[index].label \n",
    "        \n",
    "        if self.transforms is not None:  \n",
    "            audio = self.transforms(audio)\n",
    "\n",
    "        return audio, label  "
   ]
  },
  {
   "cell_type": "markdown",
   "id": "9840ea61-1ea3-442f-948e-92908a9f2be6",
   "metadata": {
    "id": "9840ea61-1ea3-442f-948e-92908a9f2be6"
   },
   "source": [
    "## Dataloader "
   ]
  },
  {
   "cell_type": "code",
   "execution_count": 10,
   "id": "e183edb9-42cc-47aa-8918-9bdf6fa00c18",
   "metadata": {
    "executionInfo": {
     "elapsed": 456,
     "status": "ok",
     "timestamp": 1670599304333,
     "user": {
      "displayName": "정희선",
      "userId": "04450625687071776858"
     },
     "user_tz": 300
    },
    "id": "e183edb9-42cc-47aa-8918-9bdf6fa00c18"
   },
   "outputs": [],
   "source": [
    "train_dataset = CustomDataset('../../dataset/train.csv', f_method, train_mode = True, transforms = None) \n",
    "train_loader = DataLoader(train_dataset, batch_size = CFG.batch_size, shuffle=True, num_workers=0)\n",
    "\n",
    "valid_dataset = CustomDataset('../../dataset/valid.csv', f_method, train_mode = False, transforms = None)\n",
    "valid_loader = DataLoader(valid_dataset, batch_size = CFG.batch_size, shuffle=False, num_workers=0)"
   ]
  },
  {
   "cell_type": "code",
   "execution_count": 11,
   "id": "e0b9dc7f-d1db-4090-8356-a8f8389485b6",
   "metadata": {
    "colab": {
     "base_uri": "https://localhost:8080/"
    },
    "executionInfo": {
     "elapsed": 39,
     "status": "ok",
     "timestamp": 1670599304336,
     "user": {
      "displayName": "정희선",
      "userId": "04450625687071776858"
     },
     "user_tz": 300
    },
    "id": "e0b9dc7f-d1db-4090-8356-a8f8389485b6",
    "outputId": "aeaa26ef-47e3-4ab8-a0e7-644460fb92ce"
   },
   "outputs": [
    {
     "name": "stdout",
     "output_type": "stream",
     "text": [
      "total train batches : 230\n",
      "total valid batches : 77\n"
     ]
    }
   ],
   "source": [
    "train_batches = len(train_loader)\n",
    "valid_batches = len(valid_loader)\n",
    "\n",
    "print('total train batches :', train_batches)\n",
    "print('total valid batches :', valid_batches)"
   ]
  },
  {
   "cell_type": "markdown",
   "id": "c4af5d0e-f8d5-48e7-9435-e58e7a54feb7",
   "metadata": {
    "id": "c4af5d0e-f8d5-48e7-9435-e58e7a54feb7"
   },
   "source": [
    "# Model Define"
   ]
  },
  {
   "cell_type": "code",
   "execution_count": 17,
   "id": "61bbfd34-ae9d-4a70-b36d-d7ce90403ebb",
   "metadata": {
    "executionInfo": {
     "elapsed": 38,
     "status": "ok",
     "timestamp": 1670599304338,
     "user": {
      "displayName": "정희선",
      "userId": "04450625687071776858"
     },
     "user_tz": 300
    },
    "id": "61bbfd34-ae9d-4a70-b36d-d7ce90403ebb"
   },
   "outputs": [],
   "source": [
    "class CNNclassification(torch.nn.Module):\n",
    "    def __init__(self):\n",
    "        super(CNNclassification, self).__init__()\n",
    "        self.layer1 = torch.nn.Sequential(\n",
    "            nn.Conv2d(40, 10, kernel_size=2, stride=1, padding=1), #cnn layer\n",
    "            nn.ReLU(), #activation function\n",
    "            nn.MaxPool2d(kernel_size=2, stride=2)) #pooling layer\n",
    "        \n",
    "        self.layer2 = torch.nn.Sequential(\n",
    "            nn.Conv2d(10, 100, kernel_size=2, stride=1, padding=1), #cnn layer\n",
    "            nn.ReLU(), #activation function\n",
    "            nn.MaxPool2d(kernel_size=2, stride=2)) #pooling layer\n",
    "        \n",
    "        self.layer3 = torch.nn.Sequential(\n",
    "            nn.Conv2d(100, 200, kernel_size=2, stride=1, padding=1), #cnn layer\n",
    "            nn.ReLU(), #activation function\n",
    "            nn.MaxPool2d(kernel_size=2, stride=2)) #pooling layer \n",
    "        \n",
    "        self.fc_layer = nn.Sequential( \n",
    "            nn.Linear(2400, 2) #fully connected layer(ouput layer)\n",
    "           \n",
    "        )    \n",
    "        \n",
    "    def forward(self, x):\n",
    "\n",
    "        x = self.layer1(x) \n",
    "        \n",
    "        x = self.layer2(x) \n",
    "        \n",
    "        x = self.layer3(x)\n",
    "        \n",
    "        x = torch.flatten(x, start_dim=1) \n",
    "\n",
    "        out = self.fc_layer(x)\n",
    "        return out"
   ]
  },
  {
   "cell_type": "markdown",
   "id": "383b5788-f619-47b7-9a8a-bbd26db8612a",
   "metadata": {
    "id": "383b5788-f619-47b7-9a8a-bbd26db8612a"
   },
   "source": [
    "# Train/Validataion"
   ]
  },
  {
   "cell_type": "code",
   "execution_count": 18,
   "id": "f9a497f6-ec76-4b98-b35e-fb9c15718e0f",
   "metadata": {
    "executionInfo": {
     "elapsed": 39,
     "status": "ok",
     "timestamp": 1670599304341,
     "user": {
      "displayName": "정희선",
      "userId": "04450625687071776858"
     },
     "user_tz": 300
    },
    "id": "f9a497f6-ec76-4b98-b35e-fb9c15718e0f"
   },
   "outputs": [],
   "source": [
    "model = CNNclassification().to(device)\n",
    "criterion = torch.nn.CrossEntropyLoss().to(device) \n",
    "optimizer = optim.Adam(model.parameters(), lr=CFG.learning_rate)\n",
    "scheduler = None "
   ]
  },
  {
   "cell_type": "code",
   "execution_count": 19,
   "id": "a99cf975-1233-48e3-a181-b48e695cc3cc",
   "metadata": {
    "executionInfo": {
     "elapsed": 41,
     "status": "ok",
     "timestamp": 1670599304346,
     "user": {
      "displayName": "정희선",
      "userId": "04450625687071776858"
     },
     "user_tz": 300
    },
    "id": "a99cf975-1233-48e3-a181-b48e695cc3cc"
   },
   "outputs": [],
   "source": [
    "from tqdm.auto import tqdm\n",
    "def train(model, optimizer, train_loader, scheduler, device): \n",
    "    model.to(device)\n",
    "    n = len(train_loader)\n",
    "    best_loss = np.inf\n",
    "    \n",
    "    for epoch in range(1,CFG.num_epochs):  \n",
    "        model.train()\n",
    "        running_loss = 0.0\n",
    "        \n",
    "        \n",
    "        for wav, label in tqdm(iter(train_loader)):\n",
    "            wav, label = wav.to(device), label.to(device)\n",
    "            optimizer.zero_grad() \n",
    "        \n",
    "            logit = model(wav)\n",
    "            loss = criterion(logit, label) \n",
    "            \n",
    "            loss.backward() \n",
    "            optimizer.step()  \n",
    "            running_loss += loss.item()\n",
    "        print(f'-----  Epoch {epoch} -----')     \n",
    "        print('Train loss: %.10f' %(running_loss / len(train_loader)))\n",
    "        \n",
    "        if scheduler is not None:\n",
    "            scheduler.step()\n",
    "            \n",
    "        model.eval()  \n",
    "        valid_loss = 0.0\n",
    "        correct = 0\n",
    "\n",
    "        real_list = []\n",
    "        pred_list = []\n",
    "       \n",
    "        with torch.no_grad(): \n",
    "            for wav, label in tqdm(iter(valid_loader)):\n",
    "                \n",
    "                wav, label = wav.to(device), label.to(device)\n",
    "                logit = model(wav)\n",
    "                valid_loss += criterion(logit, label)\n",
    "                pred = logit.argmax(dim=1, keepdim=False) \n",
    "                correct += pred.eq(label.view_as(pred)).sum().item() \n",
    "\n",
    "                real_list.extend(label.cpu().tolist())\n",
    "                pred_list.extend(pred.cpu().tolist())\n",
    "\n",
    "        valid_acc = 100 * correct / len(valid_loader.dataset)\n",
    "        valid_loss_total = valid_loss / len(valid_loader)\n",
    "        print('Vaild set: Loss: {:.4f}, Accuracy: {}/{} ( {:.0f}%)\\n'.format(valid_loss / len(valid_loader), correct, len(valid_loader.dataset), 100 * correct / len(valid_loader.dataset)))\n",
    "\n",
    "        content = time.ctime() + ' ' + f'Epoch {epoch}, lr: {optimizer.param_groups[0][\"lr\"]:.7f}, train loss: {(running_loss / len(train_loader)):.5f}, valid loss: {valid_loss / len(valid_loader):.5f}, Accuracy : {correct}/{len(valid_loader.dataset)} ({100 * correct / len(valid_loader.dataset)})%'\n",
    "\n",
    "        with open(os.path.join('./audio_logs', f'log_{CFG.kernel_name}.txt'), 'a') as appender:\n",
    "            appender.write(content + '\\n')\n",
    "        \n",
    "        if best_loss > valid_loss_total:\n",
    "            best_loss = valid_loss_total\n",
    "            torch.save(model.state_dict(), f'./audio_model/{CFG.kernel_name}.pth')  \n",
    "            print('Model Saved.')"
   ]
  },
  {
   "cell_type": "markdown",
   "id": "2Pra4IuewKtw",
   "metadata": {
    "id": "2Pra4IuewKtw"
   },
   "source": [
    "# Run"
   ]
  },
  {
   "cell_type": "code",
   "execution_count": 20,
   "id": "4f08eca4-1d3b-49f5-8c34-3c67e209b5a4",
   "metadata": {
    "executionInfo": {
     "elapsed": 45,
     "status": "ok",
     "timestamp": 1670599304353,
     "user": {
      "displayName": "정희선",
      "userId": "04450625687071776858"
     },
     "user_tz": 300
    },
    "id": "4f08eca4-1d3b-49f5-8c34-3c67e209b5a4",
    "scrolled": true,
    "tags": []
   },
   "outputs": [
    {
     "name": "stderr",
     "output_type": "stream",
     "text": [
      "  0%|          | 0/230 [00:00<?, ?it/s]C:\\Users\\lab\\anaconda3\\envs\\printer\\lib\\site-packages\\ipykernel_launcher.py:15: FutureWarning: Pass sr=16000 as keyword args. From version 0.10 passing these as positional arguments will result in an error\n",
      "  from ipykernel import kernelapp as app\n",
      "100%|██████████| 230/230 [01:39<00:00,  2.31it/s]\n"
     ]
    },
    {
     "name": "stdout",
     "output_type": "stream",
     "text": [
      "-----  Epoch 1 -----\n",
      "Train loss: 0.6093886139\n"
     ]
    },
    {
     "name": "stderr",
     "output_type": "stream",
     "text": [
      "100%|██████████| 77/77 [00:33<00:00,  2.31it/s]\n"
     ]
    },
    {
     "name": "stdout",
     "output_type": "stream",
     "text": [
      "Vaild set: Loss: 0.2928, Accuracy: 669/766 ( 87%)\n",
      "\n",
      "Model Saved.\n"
     ]
    },
    {
     "name": "stderr",
     "output_type": "stream",
     "text": [
      "100%|██████████| 230/230 [01:40<00:00,  2.29it/s]\n"
     ]
    },
    {
     "name": "stdout",
     "output_type": "stream",
     "text": [
      "-----  Epoch 2 -----\n",
      "Train loss: 0.2505155540\n"
     ]
    },
    {
     "name": "stderr",
     "output_type": "stream",
     "text": [
      "100%|██████████| 77/77 [00:33<00:00,  2.33it/s]\n"
     ]
    },
    {
     "name": "stdout",
     "output_type": "stream",
     "text": [
      "Vaild set: Loss: 0.3038, Accuracy: 658/766 ( 86%)\n",
      "\n"
     ]
    },
    {
     "name": "stderr",
     "output_type": "stream",
     "text": [
      "100%|██████████| 230/230 [01:39<00:00,  2.31it/s]\n"
     ]
    },
    {
     "name": "stdout",
     "output_type": "stream",
     "text": [
      "-----  Epoch 3 -----\n",
      "Train loss: 0.1915025198\n"
     ]
    },
    {
     "name": "stderr",
     "output_type": "stream",
     "text": [
      "100%|██████████| 77/77 [00:32<00:00,  2.34it/s]\n"
     ]
    },
    {
     "name": "stdout",
     "output_type": "stream",
     "text": [
      "Vaild set: Loss: 0.2053, Accuracy: 706/766 ( 92%)\n",
      "\n",
      "Model Saved.\n"
     ]
    },
    {
     "name": "stderr",
     "output_type": "stream",
     "text": [
      "100%|██████████| 230/230 [01:38<00:00,  2.34it/s]\n"
     ]
    },
    {
     "name": "stdout",
     "output_type": "stream",
     "text": [
      "-----  Epoch 4 -----\n",
      "Train loss: 0.1888234310\n"
     ]
    },
    {
     "name": "stderr",
     "output_type": "stream",
     "text": [
      "100%|██████████| 77/77 [00:32<00:00,  2.33it/s]\n"
     ]
    },
    {
     "name": "stdout",
     "output_type": "stream",
     "text": [
      "Vaild set: Loss: 0.2372, Accuracy: 693/766 ( 90%)\n",
      "\n"
     ]
    },
    {
     "name": "stderr",
     "output_type": "stream",
     "text": [
      "100%|██████████| 230/230 [01:38<00:00,  2.33it/s]\n"
     ]
    },
    {
     "name": "stdout",
     "output_type": "stream",
     "text": [
      "-----  Epoch 5 -----\n",
      "Train loss: 0.1489587832\n"
     ]
    },
    {
     "name": "stderr",
     "output_type": "stream",
     "text": [
      "100%|██████████| 77/77 [00:33<00:00,  2.33it/s]\n"
     ]
    },
    {
     "name": "stdout",
     "output_type": "stream",
     "text": [
      "Vaild set: Loss: 0.1910, Accuracy: 710/766 ( 93%)\n",
      "\n",
      "Model Saved.\n"
     ]
    },
    {
     "name": "stderr",
     "output_type": "stream",
     "text": [
      "100%|██████████| 230/230 [01:39<00:00,  2.31it/s]\n"
     ]
    },
    {
     "name": "stdout",
     "output_type": "stream",
     "text": [
      "-----  Epoch 6 -----\n",
      "Train loss: 0.1332320378\n"
     ]
    },
    {
     "name": "stderr",
     "output_type": "stream",
     "text": [
      "100%|██████████| 77/77 [00:33<00:00,  2.33it/s]\n"
     ]
    },
    {
     "name": "stdout",
     "output_type": "stream",
     "text": [
      "Vaild set: Loss: 0.2138, Accuracy: 706/766 ( 92%)\n",
      "\n"
     ]
    },
    {
     "name": "stderr",
     "output_type": "stream",
     "text": [
      "100%|██████████| 230/230 [01:39<00:00,  2.32it/s]\n"
     ]
    },
    {
     "name": "stdout",
     "output_type": "stream",
     "text": [
      "-----  Epoch 7 -----\n",
      "Train loss: 0.1294843637\n"
     ]
    },
    {
     "name": "stderr",
     "output_type": "stream",
     "text": [
      "100%|██████████| 77/77 [00:32<00:00,  2.36it/s]\n"
     ]
    },
    {
     "name": "stdout",
     "output_type": "stream",
     "text": [
      "Vaild set: Loss: 0.1907, Accuracy: 725/766 ( 95%)\n",
      "\n",
      "Model Saved.\n"
     ]
    },
    {
     "name": "stderr",
     "output_type": "stream",
     "text": [
      "100%|██████████| 230/230 [01:38<00:00,  2.34it/s]\n"
     ]
    },
    {
     "name": "stdout",
     "output_type": "stream",
     "text": [
      "-----  Epoch 8 -----\n",
      "Train loss: 0.1106897195\n"
     ]
    },
    {
     "name": "stderr",
     "output_type": "stream",
     "text": [
      "100%|██████████| 77/77 [00:32<00:00,  2.34it/s]\n"
     ]
    },
    {
     "name": "stdout",
     "output_type": "stream",
     "text": [
      "Vaild set: Loss: 0.1742, Accuracy: 720/766 ( 94%)\n",
      "\n",
      "Model Saved.\n"
     ]
    },
    {
     "name": "stderr",
     "output_type": "stream",
     "text": [
      "100%|██████████| 230/230 [01:38<00:00,  2.33it/s]\n"
     ]
    },
    {
     "name": "stdout",
     "output_type": "stream",
     "text": [
      "-----  Epoch 9 -----\n",
      "Train loss: 0.0773953235\n"
     ]
    },
    {
     "name": "stderr",
     "output_type": "stream",
     "text": [
      "100%|██████████| 77/77 [00:32<00:00,  2.35it/s]\n"
     ]
    },
    {
     "name": "stdout",
     "output_type": "stream",
     "text": [
      "Vaild set: Loss: 0.2704, Accuracy: 713/766 ( 93%)\n",
      "\n"
     ]
    },
    {
     "name": "stderr",
     "output_type": "stream",
     "text": [
      "100%|██████████| 230/230 [01:37<00:00,  2.35it/s]\n"
     ]
    },
    {
     "name": "stdout",
     "output_type": "stream",
     "text": [
      "-----  Epoch 10 -----\n",
      "Train loss: 0.0816413134\n"
     ]
    },
    {
     "name": "stderr",
     "output_type": "stream",
     "text": [
      "100%|██████████| 77/77 [00:32<00:00,  2.38it/s]\n"
     ]
    },
    {
     "name": "stdout",
     "output_type": "stream",
     "text": [
      "Vaild set: Loss: 0.2857, Accuracy: 716/766 ( 93%)\n",
      "\n"
     ]
    },
    {
     "name": "stderr",
     "output_type": "stream",
     "text": [
      "100%|██████████| 230/230 [01:37<00:00,  2.35it/s]\n"
     ]
    },
    {
     "name": "stdout",
     "output_type": "stream",
     "text": [
      "-----  Epoch 11 -----\n",
      "Train loss: 0.0757656947\n"
     ]
    },
    {
     "name": "stderr",
     "output_type": "stream",
     "text": [
      "100%|██████████| 77/77 [00:32<00:00,  2.38it/s]\n"
     ]
    },
    {
     "name": "stdout",
     "output_type": "stream",
     "text": [
      "Vaild set: Loss: 0.2815, Accuracy: 708/766 ( 92%)\n",
      "\n"
     ]
    },
    {
     "name": "stderr",
     "output_type": "stream",
     "text": [
      "100%|██████████| 230/230 [01:38<00:00,  2.34it/s]\n"
     ]
    },
    {
     "name": "stdout",
     "output_type": "stream",
     "text": [
      "-----  Epoch 12 -----\n",
      "Train loss: 0.0844450480\n"
     ]
    },
    {
     "name": "stderr",
     "output_type": "stream",
     "text": [
      "100%|██████████| 77/77 [00:32<00:00,  2.37it/s]\n"
     ]
    },
    {
     "name": "stdout",
     "output_type": "stream",
     "text": [
      "Vaild set: Loss: 0.2207, Accuracy: 728/766 ( 95%)\n",
      "\n"
     ]
    },
    {
     "name": "stderr",
     "output_type": "stream",
     "text": [
      "100%|██████████| 230/230 [01:38<00:00,  2.34it/s]\n"
     ]
    },
    {
     "name": "stdout",
     "output_type": "stream",
     "text": [
      "-----  Epoch 13 -----\n",
      "Train loss: 0.0870361663\n"
     ]
    },
    {
     "name": "stderr",
     "output_type": "stream",
     "text": [
      "100%|██████████| 77/77 [00:32<00:00,  2.38it/s]\n"
     ]
    },
    {
     "name": "stdout",
     "output_type": "stream",
     "text": [
      "Vaild set: Loss: 0.2673, Accuracy: 702/766 ( 92%)\n",
      "\n"
     ]
    },
    {
     "name": "stderr",
     "output_type": "stream",
     "text": [
      "100%|██████████| 230/230 [01:38<00:00,  2.34it/s]\n"
     ]
    },
    {
     "name": "stdout",
     "output_type": "stream",
     "text": [
      "-----  Epoch 14 -----\n",
      "Train loss: 0.0963253081\n"
     ]
    },
    {
     "name": "stderr",
     "output_type": "stream",
     "text": [
      "100%|██████████| 77/77 [00:32<00:00,  2.34it/s]\n"
     ]
    },
    {
     "name": "stdout",
     "output_type": "stream",
     "text": [
      "Vaild set: Loss: 0.1973, Accuracy: 708/766 ( 92%)\n",
      "\n"
     ]
    },
    {
     "name": "stderr",
     "output_type": "stream",
     "text": [
      "100%|██████████| 230/230 [01:38<00:00,  2.33it/s]\n"
     ]
    },
    {
     "name": "stdout",
     "output_type": "stream",
     "text": [
      "-----  Epoch 15 -----\n",
      "Train loss: 0.0647013936\n"
     ]
    },
    {
     "name": "stderr",
     "output_type": "stream",
     "text": [
      "100%|██████████| 77/77 [00:32<00:00,  2.35it/s]\n"
     ]
    },
    {
     "name": "stdout",
     "output_type": "stream",
     "text": [
      "Vaild set: Loss: 0.2171, Accuracy: 727/766 ( 95%)\n",
      "\n"
     ]
    },
    {
     "name": "stderr",
     "output_type": "stream",
     "text": [
      "100%|██████████| 230/230 [01:38<00:00,  2.34it/s]\n"
     ]
    },
    {
     "name": "stdout",
     "output_type": "stream",
     "text": [
      "-----  Epoch 16 -----\n",
      "Train loss: 0.0330637417\n"
     ]
    },
    {
     "name": "stderr",
     "output_type": "stream",
     "text": [
      "100%|██████████| 77/77 [00:32<00:00,  2.37it/s]\n"
     ]
    },
    {
     "name": "stdout",
     "output_type": "stream",
     "text": [
      "Vaild set: Loss: 0.2728, Accuracy: 719/766 ( 94%)\n",
      "\n"
     ]
    },
    {
     "name": "stderr",
     "output_type": "stream",
     "text": [
      "100%|██████████| 230/230 [01:38<00:00,  2.33it/s]\n"
     ]
    },
    {
     "name": "stdout",
     "output_type": "stream",
     "text": [
      "-----  Epoch 17 -----\n",
      "Train loss: 0.0429976419\n"
     ]
    },
    {
     "name": "stderr",
     "output_type": "stream",
     "text": [
      "100%|██████████| 77/77 [00:32<00:00,  2.36it/s]\n"
     ]
    },
    {
     "name": "stdout",
     "output_type": "stream",
     "text": [
      "Vaild set: Loss: 0.3486, Accuracy: 706/766 ( 92%)\n",
      "\n"
     ]
    },
    {
     "name": "stderr",
     "output_type": "stream",
     "text": [
      "100%|██████████| 230/230 [01:38<00:00,  2.34it/s]\n"
     ]
    },
    {
     "name": "stdout",
     "output_type": "stream",
     "text": [
      "-----  Epoch 18 -----\n",
      "Train loss: 0.0561052588\n"
     ]
    },
    {
     "name": "stderr",
     "output_type": "stream",
     "text": [
      "100%|██████████| 77/77 [00:32<00:00,  2.36it/s]\n"
     ]
    },
    {
     "name": "stdout",
     "output_type": "stream",
     "text": [
      "Vaild set: Loss: 0.3533, Accuracy: 705/766 ( 92%)\n",
      "\n"
     ]
    },
    {
     "name": "stderr",
     "output_type": "stream",
     "text": [
      "100%|██████████| 230/230 [01:38<00:00,  2.34it/s]\n"
     ]
    },
    {
     "name": "stdout",
     "output_type": "stream",
     "text": [
      "-----  Epoch 19 -----\n",
      "Train loss: 0.0623354742\n"
     ]
    },
    {
     "name": "stderr",
     "output_type": "stream",
     "text": [
      "100%|██████████| 77/77 [00:33<00:00,  2.33it/s]\n"
     ]
    },
    {
     "name": "stdout",
     "output_type": "stream",
     "text": [
      "Vaild set: Loss: 0.3783, Accuracy: 721/766 ( 94%)\n",
      "\n"
     ]
    },
    {
     "name": "stderr",
     "output_type": "stream",
     "text": [
      "100%|██████████| 230/230 [01:39<00:00,  2.32it/s]\n"
     ]
    },
    {
     "name": "stdout",
     "output_type": "stream",
     "text": [
      "-----  Epoch 20 -----\n",
      "Train loss: 0.0565891877\n"
     ]
    },
    {
     "name": "stderr",
     "output_type": "stream",
     "text": [
      "100%|██████████| 77/77 [00:34<00:00,  2.26it/s]\n"
     ]
    },
    {
     "name": "stdout",
     "output_type": "stream",
     "text": [
      "Vaild set: Loss: 0.2539, Accuracy: 712/766 ( 93%)\n",
      "\n"
     ]
    },
    {
     "name": "stderr",
     "output_type": "stream",
     "text": [
      "100%|██████████| 230/230 [01:41<00:00,  2.27it/s]\n"
     ]
    },
    {
     "name": "stdout",
     "output_type": "stream",
     "text": [
      "-----  Epoch 21 -----\n",
      "Train loss: 0.0594024644\n"
     ]
    },
    {
     "name": "stderr",
     "output_type": "stream",
     "text": [
      "100%|██████████| 77/77 [00:33<00:00,  2.32it/s]\n"
     ]
    },
    {
     "name": "stdout",
     "output_type": "stream",
     "text": [
      "Vaild set: Loss: 0.3359, Accuracy: 724/766 ( 95%)\n",
      "\n"
     ]
    },
    {
     "name": "stderr",
     "output_type": "stream",
     "text": [
      "100%|██████████| 230/230 [01:48<00:00,  2.12it/s]\n"
     ]
    },
    {
     "name": "stdout",
     "output_type": "stream",
     "text": [
      "-----  Epoch 22 -----\n",
      "Train loss: 0.0239055073\n"
     ]
    },
    {
     "name": "stderr",
     "output_type": "stream",
     "text": [
      "100%|██████████| 77/77 [00:46<00:00,  1.64it/s]\n"
     ]
    },
    {
     "name": "stdout",
     "output_type": "stream",
     "text": [
      "Vaild set: Loss: 0.3362, Accuracy: 700/766 ( 91%)\n",
      "\n"
     ]
    },
    {
     "name": "stderr",
     "output_type": "stream",
     "text": [
      "100%|██████████| 230/230 [02:22<00:00,  1.62it/s]\n"
     ]
    },
    {
     "name": "stdout",
     "output_type": "stream",
     "text": [
      "-----  Epoch 23 -----\n",
      "Train loss: 0.0500455304\n"
     ]
    },
    {
     "name": "stderr",
     "output_type": "stream",
     "text": [
      "100%|██████████| 77/77 [00:46<00:00,  1.65it/s]\n"
     ]
    },
    {
     "name": "stdout",
     "output_type": "stream",
     "text": [
      "Vaild set: Loss: 0.4757, Accuracy: 710/766 ( 93%)\n",
      "\n"
     ]
    },
    {
     "name": "stderr",
     "output_type": "stream",
     "text": [
      "100%|██████████| 230/230 [02:22<00:00,  1.62it/s]\n"
     ]
    },
    {
     "name": "stdout",
     "output_type": "stream",
     "text": [
      "-----  Epoch 24 -----\n",
      "Train loss: 0.0567782752\n"
     ]
    },
    {
     "name": "stderr",
     "output_type": "stream",
     "text": [
      "100%|██████████| 77/77 [00:47<00:00,  1.63it/s]\n"
     ]
    },
    {
     "name": "stdout",
     "output_type": "stream",
     "text": [
      "Vaild set: Loss: 0.4385, Accuracy: 709/766 ( 93%)\n",
      "\n"
     ]
    },
    {
     "name": "stderr",
     "output_type": "stream",
     "text": [
      "100%|██████████| 230/230 [02:19<00:00,  1.65it/s]\n"
     ]
    },
    {
     "name": "stdout",
     "output_type": "stream",
     "text": [
      "-----  Epoch 25 -----\n",
      "Train loss: 0.0525973833\n"
     ]
    },
    {
     "name": "stderr",
     "output_type": "stream",
     "text": [
      "100%|██████████| 77/77 [00:34<00:00,  2.25it/s]\n"
     ]
    },
    {
     "name": "stdout",
     "output_type": "stream",
     "text": [
      "Vaild set: Loss: 0.3656, Accuracy: 718/766 ( 94%)\n",
      "\n"
     ]
    },
    {
     "name": "stderr",
     "output_type": "stream",
     "text": [
      "100%|██████████| 230/230 [01:42<00:00,  2.24it/s]\n"
     ]
    },
    {
     "name": "stdout",
     "output_type": "stream",
     "text": [
      "-----  Epoch 26 -----\n",
      "Train loss: 0.0382134621\n"
     ]
    },
    {
     "name": "stderr",
     "output_type": "stream",
     "text": [
      "100%|██████████| 77/77 [00:33<00:00,  2.31it/s]\n"
     ]
    },
    {
     "name": "stdout",
     "output_type": "stream",
     "text": [
      "Vaild set: Loss: 0.4223, Accuracy: 717/766 ( 94%)\n",
      "\n"
     ]
    },
    {
     "name": "stderr",
     "output_type": "stream",
     "text": [
      "100%|██████████| 230/230 [01:40<00:00,  2.28it/s]\n"
     ]
    },
    {
     "name": "stdout",
     "output_type": "stream",
     "text": [
      "-----  Epoch 27 -----\n",
      "Train loss: 0.0049557147\n"
     ]
    },
    {
     "name": "stderr",
     "output_type": "stream",
     "text": [
      "100%|██████████| 77/77 [00:32<00:00,  2.33it/s]\n"
     ]
    },
    {
     "name": "stdout",
     "output_type": "stream",
     "text": [
      "Vaild set: Loss: 0.4210, Accuracy: 728/766 ( 95%)\n",
      "\n"
     ]
    },
    {
     "name": "stderr",
     "output_type": "stream",
     "text": [
      "100%|██████████| 230/230 [01:40<00:00,  2.29it/s]\n"
     ]
    },
    {
     "name": "stdout",
     "output_type": "stream",
     "text": [
      "-----  Epoch 28 -----\n",
      "Train loss: 0.0012117462\n"
     ]
    },
    {
     "name": "stderr",
     "output_type": "stream",
     "text": [
      "100%|██████████| 77/77 [00:33<00:00,  2.31it/s]\n"
     ]
    },
    {
     "name": "stdout",
     "output_type": "stream",
     "text": [
      "Vaild set: Loss: 0.3937, Accuracy: 725/766 ( 95%)\n",
      "\n"
     ]
    },
    {
     "name": "stderr",
     "output_type": "stream",
     "text": [
      "100%|██████████| 230/230 [01:40<00:00,  2.30it/s]\n"
     ]
    },
    {
     "name": "stdout",
     "output_type": "stream",
     "text": [
      "-----  Epoch 29 -----\n",
      "Train loss: 0.0004384588\n"
     ]
    },
    {
     "name": "stderr",
     "output_type": "stream",
     "text": [
      "100%|██████████| 77/77 [00:33<00:00,  2.32it/s]"
     ]
    },
    {
     "name": "stdout",
     "output_type": "stream",
     "text": [
      "Vaild set: Loss: 0.4242, Accuracy: 727/766 ( 95%)\n",
      "\n"
     ]
    },
    {
     "name": "stderr",
     "output_type": "stream",
     "text": [
      "\n"
     ]
    }
   ],
   "source": [
    "train(model, optimizer, train_loader, scheduler, device)"
   ]
  },
  {
   "cell_type": "markdown",
   "id": "135b4cc8-01b8-42ce-9504-2e9fddbe3944",
   "metadata": {
    "id": "135b4cc8-01b8-42ce-9504-2e9fddbe3944"
   },
   "source": [
    "# Test"
   ]
  },
  {
   "cell_type": "code",
   "execution_count": 22,
   "id": "618c59d2-78b3-44e5-af4f-df4cc72ecfb1",
   "metadata": {},
   "outputs": [
    {
     "data": {
      "text/plain": [
       "'C:\\\\Users\\\\lab\\\\Desktop\\\\yj\\\\FINAL_TEST_CODE\\\\code\\\\deep_learning'"
      ]
     },
     "execution_count": 22,
     "metadata": {},
     "output_type": "execute_result"
    }
   ],
   "source": [
    "os.getcwd()"
   ]
  },
  {
   "cell_type": "code",
   "execution_count": 26,
   "id": "af44eb0c-f8c8-4997-b753-73eda6b9a526",
   "metadata": {
    "executionInfo": {
     "elapsed": 45,
     "status": "ok",
     "timestamp": 1670599304358,
     "user": {
      "displayName": "정희선",
      "userId": "04450625687071776858"
     },
     "user_tz": 300
    },
    "id": "af44eb0c-f8c8-4997-b753-73eda6b9a526"
   },
   "outputs": [],
   "source": [
    "best_model = CNNclassification().to(device)\n",
    "best_model.load_state_dict(torch.load(f'./audio_model/{CFG.kernel_name}.pth'))\n",
    "\n",
    "test_dataset = CustomDataset('../../dataset/test.csv', f_method, train_mode = False, transforms = None)\n",
    "test_loader = DataLoader(test_dataset, batch_size = CFG.batch_size, shuffle=False, num_workers=0)"
   ]
  },
  {
   "cell_type": "code",
   "execution_count": 28,
   "id": "PNDNgMF9GHtW",
   "metadata": {
    "colab": {
     "base_uri": "https://localhost:8080/",
     "height": 414,
     "referenced_widgets": [
      "23345f01a95d463186766223ae1f1fd1",
      "4f37ee4efe6b4222a40e0dcc7b03e5d0",
      "19ce6413088d43fcbd8102687a2142de",
      "2873c7173e3f4b2082601e826b5fc644",
      "34efc682ea2942649a0408566296239c",
      "6c8afd5f617947e3b2463955a338f8ac",
      "19baf77175f74978815ebda677643371",
      "0e8ab02d7a1c4aa9b309eec65870c7fe",
      "218a8e29f9ef457f9a6e37c871cd232f",
      "51727f22237444faa961622fced9b2fd",
      "2a88d6151ab04f8d8d0a5abf844dbcca"
     ]
    },
    "executionInfo": {
     "elapsed": 129841,
     "status": "ok",
     "timestamp": 1670599434155,
     "user": {
      "displayName": "정희선",
      "userId": "04450625687071776858"
     },
     "user_tz": 300
    },
    "id": "PNDNgMF9GHtW",
    "outputId": "f299804b-4e8f-4a69-9a4e-3132b524297d"
   },
   "outputs": [
    {
     "name": "stderr",
     "output_type": "stream",
     "text": [
      "  0%|          | 0/77 [00:00<?, ?it/s]C:\\Users\\lab\\anaconda3\\envs\\printer\\lib\\site-packages\\ipykernel_launcher.py:15: FutureWarning: Pass sr=16000 as keyword args. From version 0.10 passing these as positional arguments will result in an error\n",
      "  from ipykernel import kernelapp as app\n",
      "C:\\Users\\lab\\anaconda3\\envs\\printer\\lib\\site-packages\\torch\\nn\\functional.py:1960: UserWarning: nn.functional.sigmoid is deprecated. Use torch.sigmoid instead.\n",
      "  warnings.warn(\"nn.functional.sigmoid is deprecated. Use torch.sigmoid instead.\")\n",
      "100%|██████████| 77/77 [00:35<00:00,  2.18it/s]\n"
     ]
    }
   ],
   "source": [
    "best_model.eval() \n",
    "test_loss = 0.0\n",
    "correct = 0\n",
    "\n",
    "real_list = []\n",
    "pred_list = []\n",
    "prob_list = []\n",
    "\n",
    "with torch.no_grad(): \n",
    "    for wav, label in tqdm(iter(test_loader)):\n",
    "        \n",
    "        wav, label = wav.to(device), label.to(device)\n",
    "        logit = best_model(wav)\n",
    "        vali_loss+=criterion(logit, label)\n",
    "        prob = F.sigmoid(logit[:,1])\n",
    "        prob_list.extend(prob.cpu().tolist())\n",
    "        pred = logit.argmax(dim=1, keepdim=False)  \n",
    "        correct += pred.eq(label.view_as(pred)).sum().item()  \n",
    "        real_list.extend(label.cpu().tolist())\n",
    "        pred_list.extend(pred.cpu().tolist())\n"
   ]
  },
  {
   "cell_type": "markdown",
   "id": "db7fa5e9-e84d-4d0b-814b-154dc091f703",
   "metadata": {},
   "source": [
    "# Evaluation"
   ]
  },
  {
   "cell_type": "code",
   "execution_count": 29,
   "id": "94e3def9-0e72-492f-b075-ae7b433c1040",
   "metadata": {},
   "outputs": [
    {
     "name": "stdout",
     "output_type": "stream",
     "text": [
      "test_loader:  77\n",
      "Test Loss: 0.0000, Accuracy: 725/766 ( 95%)\n",
      "\n",
      "              precision    recall  f1-score   support\n",
      "\n",
      "           0       0.95      0.93      0.94       369\n",
      "           1       0.94      0.96      0.95       397\n",
      "\n",
      "    accuracy                           0.95       766\n",
      "   macro avg       0.95      0.95      0.95       766\n",
      "weighted avg       0.95      0.95      0.95       766\n",
      "\n",
      "CEL:  0.18426052004349008\n",
      "AUC:  0.9811868143870356\n",
      "mfcc_16000\n"
     ]
    }
   ],
   "source": [
    "test_acc = 100 * correct / len(test_loader.dataset)\n",
    "test_loss_total = test_loss / len(test_loader)\n",
    "print(\"test_loader: \", len(test_loader))\n",
    "print('Test Loss: {:.4f}, Accuracy: {}/{} ( {:.0f}%)\\n'.format(test_loss_total, correct, len(test_loader.dataset), test_acc))\n",
    " \n",
    "print(classification_report(real_list, pred_list)) \n",
    "fpr, tpr, thresholds = metrics.roc_curve(real_list, prob_list)\n",
    "AUC = metrics.auc(fpr, tpr)\n",
    "\n",
    "CEL = log_loss(real_list, prob_list)\n",
    "\n",
    "print(\"CEL: \", CEL)\n",
    "print(\"AUC: \", AUC) "
   ]
  },
  {
   "cell_type": "code",
   "execution_count": null,
   "id": "c6b52fb3-04ca-42cf-add6-49bd982da64c",
   "metadata": {},
   "outputs": [],
   "source": []
  }
 ],
 "metadata": {
  "colab": {
   "machine_shape": "hm",
   "provenance": []
  },
  "gpuClass": "standard",
  "kernelspec": {
   "display_name": "Python 3 (ipykernel)",
   "language": "python",
   "name": "python3"
  },
  "language_info": {
   "codemirror_mode": {
    "name": "ipython",
    "version": 3
   },
   "file_extension": ".py",
   "mimetype": "text/x-python",
   "name": "python",
   "nbconvert_exporter": "python",
   "pygments_lexer": "ipython3",
   "version": "3.7.13"
  },
  "widgets": {
   "application/vnd.jupyter.widget-state+json": {
    "0e0ba540d1df46ab9b9af08a99debb8d": {
     "model_module": "@jupyter-widgets/controls",
     "model_module_version": "1.5.0",
     "model_name": "FloatProgressModel",
     "state": {
      "_dom_classes": [],
      "_model_module": "@jupyter-widgets/controls",
      "_model_module_version": "1.5.0",
      "_model_name": "FloatProgressModel",
      "_view_count": null,
      "_view_module": "@jupyter-widgets/controls",
      "_view_module_version": "1.5.0",
      "_view_name": "ProgressView",
      "bar_style": "success",
      "description": "",
      "description_tooltip": null,
      "layout": "IPY_MODEL_c10e0e946f9e48dc9b99fc948c6e9488",
      "max": 77,
      "min": 0,
      "orientation": "horizontal",
      "style": "IPY_MODEL_68a8d3fcc4a94b3586399a3253f661b9",
      "value": 77
     }
    },
    "0e8ab02d7a1c4aa9b309eec65870c7fe": {
     "model_module": "@jupyter-widgets/base",
     "model_module_version": "1.2.0",
     "model_name": "LayoutModel",
     "state": {
      "_model_module": "@jupyter-widgets/base",
      "_model_module_version": "1.2.0",
      "_model_name": "LayoutModel",
      "_view_count": null,
      "_view_module": "@jupyter-widgets/base",
      "_view_module_version": "1.2.0",
      "_view_name": "LayoutView",
      "align_content": null,
      "align_items": null,
      "align_self": null,
      "border": null,
      "bottom": null,
      "display": null,
      "flex": null,
      "flex_flow": null,
      "grid_area": null,
      "grid_auto_columns": null,
      "grid_auto_flow": null,
      "grid_auto_rows": null,
      "grid_column": null,
      "grid_gap": null,
      "grid_row": null,
      "grid_template_areas": null,
      "grid_template_columns": null,
      "grid_template_rows": null,
      "height": null,
      "justify_content": null,
      "justify_items": null,
      "left": null,
      "margin": null,
      "max_height": null,
      "max_width": null,
      "min_height": null,
      "min_width": null,
      "object_fit": null,
      "object_position": null,
      "order": null,
      "overflow": null,
      "overflow_x": null,
      "overflow_y": null,
      "padding": null,
      "right": null,
      "top": null,
      "visibility": null,
      "width": null
     }
    },
    "181ce61fde254308b8b61972a5f09aa3": {
     "model_module": "@jupyter-widgets/base",
     "model_module_version": "1.2.0",
     "model_name": "LayoutModel",
     "state": {
      "_model_module": "@jupyter-widgets/base",
      "_model_module_version": "1.2.0",
      "_model_name": "LayoutModel",
      "_view_count": null,
      "_view_module": "@jupyter-widgets/base",
      "_view_module_version": "1.2.0",
      "_view_name": "LayoutView",
      "align_content": null,
      "align_items": null,
      "align_self": null,
      "border": null,
      "bottom": null,
      "display": null,
      "flex": null,
      "flex_flow": null,
      "grid_area": null,
      "grid_auto_columns": null,
      "grid_auto_flow": null,
      "grid_auto_rows": null,
      "grid_column": null,
      "grid_gap": null,
      "grid_row": null,
      "grid_template_areas": null,
      "grid_template_columns": null,
      "grid_template_rows": null,
      "height": null,
      "justify_content": null,
      "justify_items": null,
      "left": null,
      "margin": null,
      "max_height": null,
      "max_width": null,
      "min_height": null,
      "min_width": null,
      "object_fit": null,
      "object_position": null,
      "order": null,
      "overflow": null,
      "overflow_x": null,
      "overflow_y": null,
      "padding": null,
      "right": null,
      "top": null,
      "visibility": null,
      "width": null
     }
    },
    "19baf77175f74978815ebda677643371": {
     "model_module": "@jupyter-widgets/controls",
     "model_module_version": "1.5.0",
     "model_name": "DescriptionStyleModel",
     "state": {
      "_model_module": "@jupyter-widgets/controls",
      "_model_module_version": "1.5.0",
      "_model_name": "DescriptionStyleModel",
      "_view_count": null,
      "_view_module": "@jupyter-widgets/base",
      "_view_module_version": "1.2.0",
      "_view_name": "StyleView",
      "description_width": ""
     }
    },
    "19ce6413088d43fcbd8102687a2142de": {
     "model_module": "@jupyter-widgets/controls",
     "model_module_version": "1.5.0",
     "model_name": "FloatProgressModel",
     "state": {
      "_dom_classes": [],
      "_model_module": "@jupyter-widgets/controls",
      "_model_module_version": "1.5.0",
      "_model_name": "FloatProgressModel",
      "_view_count": null,
      "_view_module": "@jupyter-widgets/controls",
      "_view_module_version": "1.5.0",
      "_view_name": "ProgressView",
      "bar_style": "success",
      "description": "",
      "description_tooltip": null,
      "layout": "IPY_MODEL_0e8ab02d7a1c4aa9b309eec65870c7fe",
      "max": 77,
      "min": 0,
      "orientation": "horizontal",
      "style": "IPY_MODEL_218a8e29f9ef457f9a6e37c871cd232f",
      "value": 77
     }
    },
    "218a8e29f9ef457f9a6e37c871cd232f": {
     "model_module": "@jupyter-widgets/controls",
     "model_module_version": "1.5.0",
     "model_name": "ProgressStyleModel",
     "state": {
      "_model_module": "@jupyter-widgets/controls",
      "_model_module_version": "1.5.0",
      "_model_name": "ProgressStyleModel",
      "_view_count": null,
      "_view_module": "@jupyter-widgets/base",
      "_view_module_version": "1.2.0",
      "_view_name": "StyleView",
      "bar_color": null,
      "description_width": ""
     }
    },
    "23345f01a95d463186766223ae1f1fd1": {
     "model_module": "@jupyter-widgets/controls",
     "model_module_version": "1.5.0",
     "model_name": "HBoxModel",
     "state": {
      "_dom_classes": [],
      "_model_module": "@jupyter-widgets/controls",
      "_model_module_version": "1.5.0",
      "_model_name": "HBoxModel",
      "_view_count": null,
      "_view_module": "@jupyter-widgets/controls",
      "_view_module_version": "1.5.0",
      "_view_name": "HBoxView",
      "box_style": "",
      "children": [
       "IPY_MODEL_4f37ee4efe6b4222a40e0dcc7b03e5d0",
       "IPY_MODEL_19ce6413088d43fcbd8102687a2142de",
       "IPY_MODEL_2873c7173e3f4b2082601e826b5fc644"
      ],
      "layout": "IPY_MODEL_34efc682ea2942649a0408566296239c"
     }
    },
    "2873c7173e3f4b2082601e826b5fc644": {
     "model_module": "@jupyter-widgets/controls",
     "model_module_version": "1.5.0",
     "model_name": "HTMLModel",
     "state": {
      "_dom_classes": [],
      "_model_module": "@jupyter-widgets/controls",
      "_model_module_version": "1.5.0",
      "_model_name": "HTMLModel",
      "_view_count": null,
      "_view_module": "@jupyter-widgets/controls",
      "_view_module_version": "1.5.0",
      "_view_name": "HTMLView",
      "description": "",
      "description_tooltip": null,
      "layout": "IPY_MODEL_51727f22237444faa961622fced9b2fd",
      "placeholder": "​",
      "style": "IPY_MODEL_2a88d6151ab04f8d8d0a5abf844dbcca",
      "value": " 77/77 [02:09&lt;00:00,  1.25s/it]"
     }
    },
    "2a88d6151ab04f8d8d0a5abf844dbcca": {
     "model_module": "@jupyter-widgets/controls",
     "model_module_version": "1.5.0",
     "model_name": "DescriptionStyleModel",
     "state": {
      "_model_module": "@jupyter-widgets/controls",
      "_model_module_version": "1.5.0",
      "_model_name": "DescriptionStyleModel",
      "_view_count": null,
      "_view_module": "@jupyter-widgets/base",
      "_view_module_version": "1.2.0",
      "_view_name": "StyleView",
      "description_width": ""
     }
    },
    "2f9ea8dbe8f64502a3d8eb94a8d3d518": {
     "model_module": "@jupyter-widgets/controls",
     "model_module_version": "1.5.0",
     "model_name": "HTMLModel",
     "state": {
      "_dom_classes": [],
      "_model_module": "@jupyter-widgets/controls",
      "_model_module_version": "1.5.0",
      "_model_name": "HTMLModel",
      "_view_count": null,
      "_view_module": "@jupyter-widgets/controls",
      "_view_module_version": "1.5.0",
      "_view_name": "HTMLView",
      "description": "",
      "description_tooltip": null,
      "layout": "IPY_MODEL_181ce61fde254308b8b61972a5f09aa3",
      "placeholder": "​",
      "style": "IPY_MODEL_75f0c132452648388718929fa2d0e396",
      "value": " 77/77 [01:15&lt;00:00,  1.36it/s]"
     }
    },
    "34efc682ea2942649a0408566296239c": {
     "model_module": "@jupyter-widgets/base",
     "model_module_version": "1.2.0",
     "model_name": "LayoutModel",
     "state": {
      "_model_module": "@jupyter-widgets/base",
      "_model_module_version": "1.2.0",
      "_model_name": "LayoutModel",
      "_view_count": null,
      "_view_module": "@jupyter-widgets/base",
      "_view_module_version": "1.2.0",
      "_view_name": "LayoutView",
      "align_content": null,
      "align_items": null,
      "align_self": null,
      "border": null,
      "bottom": null,
      "display": null,
      "flex": null,
      "flex_flow": null,
      "grid_area": null,
      "grid_auto_columns": null,
      "grid_auto_flow": null,
      "grid_auto_rows": null,
      "grid_column": null,
      "grid_gap": null,
      "grid_row": null,
      "grid_template_areas": null,
      "grid_template_columns": null,
      "grid_template_rows": null,
      "height": null,
      "justify_content": null,
      "justify_items": null,
      "left": null,
      "margin": null,
      "max_height": null,
      "max_width": null,
      "min_height": null,
      "min_width": null,
      "object_fit": null,
      "object_position": null,
      "order": null,
      "overflow": null,
      "overflow_x": null,
      "overflow_y": null,
      "padding": null,
      "right": null,
      "top": null,
      "visibility": null,
      "width": null
     }
    },
    "3aca21d743024397bbe1c8ff74c0cb41": {
     "model_module": "@jupyter-widgets/controls",
     "model_module_version": "1.5.0",
     "model_name": "DescriptionStyleModel",
     "state": {
      "_model_module": "@jupyter-widgets/controls",
      "_model_module_version": "1.5.0",
      "_model_name": "DescriptionStyleModel",
      "_view_count": null,
      "_view_module": "@jupyter-widgets/base",
      "_view_module_version": "1.2.0",
      "_view_name": "StyleView",
      "description_width": ""
     }
    },
    "4f37ee4efe6b4222a40e0dcc7b03e5d0": {
     "model_module": "@jupyter-widgets/controls",
     "model_module_version": "1.5.0",
     "model_name": "HTMLModel",
     "state": {
      "_dom_classes": [],
      "_model_module": "@jupyter-widgets/controls",
      "_model_module_version": "1.5.0",
      "_model_name": "HTMLModel",
      "_view_count": null,
      "_view_module": "@jupyter-widgets/controls",
      "_view_module_version": "1.5.0",
      "_view_name": "HTMLView",
      "description": "",
      "description_tooltip": null,
      "layout": "IPY_MODEL_6c8afd5f617947e3b2463955a338f8ac",
      "placeholder": "​",
      "style": "IPY_MODEL_19baf77175f74978815ebda677643371",
      "value": "100%"
     }
    },
    "51727f22237444faa961622fced9b2fd": {
     "model_module": "@jupyter-widgets/base",
     "model_module_version": "1.2.0",
     "model_name": "LayoutModel",
     "state": {
      "_model_module": "@jupyter-widgets/base",
      "_model_module_version": "1.2.0",
      "_model_name": "LayoutModel",
      "_view_count": null,
      "_view_module": "@jupyter-widgets/base",
      "_view_module_version": "1.2.0",
      "_view_name": "LayoutView",
      "align_content": null,
      "align_items": null,
      "align_self": null,
      "border": null,
      "bottom": null,
      "display": null,
      "flex": null,
      "flex_flow": null,
      "grid_area": null,
      "grid_auto_columns": null,
      "grid_auto_flow": null,
      "grid_auto_rows": null,
      "grid_column": null,
      "grid_gap": null,
      "grid_row": null,
      "grid_template_areas": null,
      "grid_template_columns": null,
      "grid_template_rows": null,
      "height": null,
      "justify_content": null,
      "justify_items": null,
      "left": null,
      "margin": null,
      "max_height": null,
      "max_width": null,
      "min_height": null,
      "min_width": null,
      "object_fit": null,
      "object_position": null,
      "order": null,
      "overflow": null,
      "overflow_x": null,
      "overflow_y": null,
      "padding": null,
      "right": null,
      "top": null,
      "visibility": null,
      "width": null
     }
    },
    "68a8d3fcc4a94b3586399a3253f661b9": {
     "model_module": "@jupyter-widgets/controls",
     "model_module_version": "1.5.0",
     "model_name": "ProgressStyleModel",
     "state": {
      "_model_module": "@jupyter-widgets/controls",
      "_model_module_version": "1.5.0",
      "_model_name": "ProgressStyleModel",
      "_view_count": null,
      "_view_module": "@jupyter-widgets/base",
      "_view_module_version": "1.2.0",
      "_view_name": "StyleView",
      "bar_color": null,
      "description_width": ""
     }
    },
    "6badd2619d9c47d5897031337b766b26": {
     "model_module": "@jupyter-widgets/controls",
     "model_module_version": "1.5.0",
     "model_name": "HTMLModel",
     "state": {
      "_dom_classes": [],
      "_model_module": "@jupyter-widgets/controls",
      "_model_module_version": "1.5.0",
      "_model_name": "HTMLModel",
      "_view_count": null,
      "_view_module": "@jupyter-widgets/controls",
      "_view_module_version": "1.5.0",
      "_view_name": "HTMLView",
      "description": "",
      "description_tooltip": null,
      "layout": "IPY_MODEL_e8d0b5e1f61849b5b0db53473f5c9a92",
      "placeholder": "​",
      "style": "IPY_MODEL_3aca21d743024397bbe1c8ff74c0cb41",
      "value": "100%"
     }
    },
    "6c8afd5f617947e3b2463955a338f8ac": {
     "model_module": "@jupyter-widgets/base",
     "model_module_version": "1.2.0",
     "model_name": "LayoutModel",
     "state": {
      "_model_module": "@jupyter-widgets/base",
      "_model_module_version": "1.2.0",
      "_model_name": "LayoutModel",
      "_view_count": null,
      "_view_module": "@jupyter-widgets/base",
      "_view_module_version": "1.2.0",
      "_view_name": "LayoutView",
      "align_content": null,
      "align_items": null,
      "align_self": null,
      "border": null,
      "bottom": null,
      "display": null,
      "flex": null,
      "flex_flow": null,
      "grid_area": null,
      "grid_auto_columns": null,
      "grid_auto_flow": null,
      "grid_auto_rows": null,
      "grid_column": null,
      "grid_gap": null,
      "grid_row": null,
      "grid_template_areas": null,
      "grid_template_columns": null,
      "grid_template_rows": null,
      "height": null,
      "justify_content": null,
      "justify_items": null,
      "left": null,
      "margin": null,
      "max_height": null,
      "max_width": null,
      "min_height": null,
      "min_width": null,
      "object_fit": null,
      "object_position": null,
      "order": null,
      "overflow": null,
      "overflow_x": null,
      "overflow_y": null,
      "padding": null,
      "right": null,
      "top": null,
      "visibility": null,
      "width": null
     }
    },
    "75f0c132452648388718929fa2d0e396": {
     "model_module": "@jupyter-widgets/controls",
     "model_module_version": "1.5.0",
     "model_name": "DescriptionStyleModel",
     "state": {
      "_model_module": "@jupyter-widgets/controls",
      "_model_module_version": "1.5.0",
      "_model_name": "DescriptionStyleModel",
      "_view_count": null,
      "_view_module": "@jupyter-widgets/base",
      "_view_module_version": "1.2.0",
      "_view_name": "StyleView",
      "description_width": ""
     }
    },
    "c10e0e946f9e48dc9b99fc948c6e9488": {
     "model_module": "@jupyter-widgets/base",
     "model_module_version": "1.2.0",
     "model_name": "LayoutModel",
     "state": {
      "_model_module": "@jupyter-widgets/base",
      "_model_module_version": "1.2.0",
      "_model_name": "LayoutModel",
      "_view_count": null,
      "_view_module": "@jupyter-widgets/base",
      "_view_module_version": "1.2.0",
      "_view_name": "LayoutView",
      "align_content": null,
      "align_items": null,
      "align_self": null,
      "border": null,
      "bottom": null,
      "display": null,
      "flex": null,
      "flex_flow": null,
      "grid_area": null,
      "grid_auto_columns": null,
      "grid_auto_flow": null,
      "grid_auto_rows": null,
      "grid_column": null,
      "grid_gap": null,
      "grid_row": null,
      "grid_template_areas": null,
      "grid_template_columns": null,
      "grid_template_rows": null,
      "height": null,
      "justify_content": null,
      "justify_items": null,
      "left": null,
      "margin": null,
      "max_height": null,
      "max_width": null,
      "min_height": null,
      "min_width": null,
      "object_fit": null,
      "object_position": null,
      "order": null,
      "overflow": null,
      "overflow_x": null,
      "overflow_y": null,
      "padding": null,
      "right": null,
      "top": null,
      "visibility": null,
      "width": null
     }
    },
    "e8d0b5e1f61849b5b0db53473f5c9a92": {
     "model_module": "@jupyter-widgets/base",
     "model_module_version": "1.2.0",
     "model_name": "LayoutModel",
     "state": {
      "_model_module": "@jupyter-widgets/base",
      "_model_module_version": "1.2.0",
      "_model_name": "LayoutModel",
      "_view_count": null,
      "_view_module": "@jupyter-widgets/base",
      "_view_module_version": "1.2.0",
      "_view_name": "LayoutView",
      "align_content": null,
      "align_items": null,
      "align_self": null,
      "border": null,
      "bottom": null,
      "display": null,
      "flex": null,
      "flex_flow": null,
      "grid_area": null,
      "grid_auto_columns": null,
      "grid_auto_flow": null,
      "grid_auto_rows": null,
      "grid_column": null,
      "grid_gap": null,
      "grid_row": null,
      "grid_template_areas": null,
      "grid_template_columns": null,
      "grid_template_rows": null,
      "height": null,
      "justify_content": null,
      "justify_items": null,
      "left": null,
      "margin": null,
      "max_height": null,
      "max_width": null,
      "min_height": null,
      "min_width": null,
      "object_fit": null,
      "object_position": null,
      "order": null,
      "overflow": null,
      "overflow_x": null,
      "overflow_y": null,
      "padding": null,
      "right": null,
      "top": null,
      "visibility": null,
      "width": null
     }
    },
    "e999c88f24f44ab1a8f0372750f6fbb4": {
     "model_module": "@jupyter-widgets/base",
     "model_module_version": "1.2.0",
     "model_name": "LayoutModel",
     "state": {
      "_model_module": "@jupyter-widgets/base",
      "_model_module_version": "1.2.0",
      "_model_name": "LayoutModel",
      "_view_count": null,
      "_view_module": "@jupyter-widgets/base",
      "_view_module_version": "1.2.0",
      "_view_name": "LayoutView",
      "align_content": null,
      "align_items": null,
      "align_self": null,
      "border": null,
      "bottom": null,
      "display": null,
      "flex": null,
      "flex_flow": null,
      "grid_area": null,
      "grid_auto_columns": null,
      "grid_auto_flow": null,
      "grid_auto_rows": null,
      "grid_column": null,
      "grid_gap": null,
      "grid_row": null,
      "grid_template_areas": null,
      "grid_template_columns": null,
      "grid_template_rows": null,
      "height": null,
      "justify_content": null,
      "justify_items": null,
      "left": null,
      "margin": null,
      "max_height": null,
      "max_width": null,
      "min_height": null,
      "min_width": null,
      "object_fit": null,
      "object_position": null,
      "order": null,
      "overflow": null,
      "overflow_x": null,
      "overflow_y": null,
      "padding": null,
      "right": null,
      "top": null,
      "visibility": null,
      "width": null
     }
    },
    "fbe3bbd4d02f46109af1c60b517f389f": {
     "model_module": "@jupyter-widgets/controls",
     "model_module_version": "1.5.0",
     "model_name": "HBoxModel",
     "state": {
      "_dom_classes": [],
      "_model_module": "@jupyter-widgets/controls",
      "_model_module_version": "1.5.0",
      "_model_name": "HBoxModel",
      "_view_count": null,
      "_view_module": "@jupyter-widgets/controls",
      "_view_module_version": "1.5.0",
      "_view_name": "HBoxView",
      "box_style": "",
      "children": [
       "IPY_MODEL_6badd2619d9c47d5897031337b766b26",
       "IPY_MODEL_0e0ba540d1df46ab9b9af08a99debb8d",
       "IPY_MODEL_2f9ea8dbe8f64502a3d8eb94a8d3d518"
      ],
      "layout": "IPY_MODEL_e999c88f24f44ab1a8f0372750f6fbb4"
     }
    }
   }
  }
 },
 "nbformat": 4,
 "nbformat_minor": 5
}
